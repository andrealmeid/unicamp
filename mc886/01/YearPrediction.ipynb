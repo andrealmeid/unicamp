{
 "cells": [
  {
   "cell_type": "markdown",
   "metadata": {},
   "source": [
    "Esse cardeno possui os códigos utilizados nos experimentos de _Predição do Ano de Músicas a Partir de Timbres_. Tentamos deixar as células na mesma ordem em que se encontram os resultados e gráficos no artigo.\n",
    "- André Almeida 164047\n",
    "- Igor Torrente 164047"
   ]
  },
  {
   "cell_type": "markdown",
   "metadata": {},
   "source": [
    "### Células de inicialização do código e dos dados"
   ]
  },
  {
   "cell_type": "code",
   "execution_count": 1,
   "metadata": {
    "collapsed": true
   },
   "outputs": [],
   "source": [
    "### IMPORTS ###\n",
    "import pandas\n",
    "import numpy as np\n",
    "import matplotlib.pyplot as plt\n",
    "import matplotlib.patches as mpatches\n",
    "from sklearn import linear_model\n",
    "from sklearn.preprocessing import StandardScaler\n",
    "from sklearn.model_selection import train_test_split\n",
    "\n",
    "import warnings\n",
    "warnings.simplefilter(action='ignore', category=FutureWarning)"
   ]
  },
  {
   "cell_type": "code",
   "execution_count": 2,
   "metadata": {
    "collapsed": true
   },
   "outputs": [],
   "source": [
    "### PRINT RESULTS ###\n",
    "def printResults(pred_y, valid_y):\n",
    "    \n",
    "    orange = mpatches.Patch(color='orange', label='Dado predito')\n",
    "    blue = mpatches.Patch(color='blue', label='Dado real')\n",
    "    \n",
    "    mpl_fig = plt.figure()\n",
    "    ax = mpl_fig.add_subplot(111)\n",
    "    \n",
    "    ax.set_title(\"Histograma de músicas/anos\")\n",
    "    ax.set_xlabel(\"Ano\")\n",
    "    ax.set_ylabel(\"Quantidade de músicas\")\n",
    "    \n",
    "    \n",
    "    # Get histogram of predited data and test\n",
    "    hist_pred, bins_pred = np.histogram(pred_y, 109)\n",
    "    hist_valid, bins_valid = np.histogram(valid_y, 109)\n",
    "\n",
    "    # Prepare real data bars\n",
    "    width = 0.7 * (bins_valid[1] - bins_valid[0])\n",
    "    center = (bins_valid[:-1] + bins_valid[1:]) / 2\n",
    "    plt.bar(center, hist_valid, align='center', width=2, alpha=1, color='blue')\n",
    "\n",
    "    # Prepare result bars\n",
    "    width = 0.7 * (bins_pred[1] - bins_pred[0])\n",
    "    center = (bins_pred[:-1] + bins_pred[1:]) / 2\n",
    "    plt.bar(center, hist_pred, align='center', width=2, alpha=0.45, color='orange')\n",
    "\n",
    "    plt.legend(handles=[orange, blue])\n",
    "    plt.show()"
   ]
  },
  {
   "cell_type": "code",
   "execution_count": 3,
   "metadata": {
    "collapsed": true
   },
   "outputs": [],
   "source": [
    "### GET DATA FROM FILE ###\n",
    "data = pandas.read_csv(\"year-prediction-msd-train.txt\")\n",
    "test = pandas.read_csv(\"year-prediction-msd-test.txt\")"
   ]
  },
  {
   "cell_type": "code",
   "execution_count": 4,
   "metadata": {
    "collapsed": true
   },
   "outputs": [],
   "source": [
    "### SPLIT TRAIN AND TEST DATA ###\n",
    "train, validation = train_test_split(data, shuffle=True, train_size=0.8)"
   ]
  },
  {
   "cell_type": "code",
   "execution_count": 5,
   "metadata": {
    "collapsed": true
   },
   "outputs": [],
   "source": [
    "### SLIPT X AND F(X) ###\n",
    "\n",
    "train_x = train.loc[:, 'ta01':]\n",
    "train_y = train['year'].values\n",
    "\n",
    "valid_x = validation.loc[:, 'ta01':]\n",
    "valid_y = validation['year'].values\n",
    "\n",
    "test_x = test.loc[:, 'ta01':]\n",
    "test_y = test['year'].values"
   ]
  },
  {
   "cell_type": "code",
   "execution_count": 6,
   "metadata": {
    "collapsed": true
   },
   "outputs": [],
   "source": [
    "### RESCALE THE DATA ###\n",
    "scaler = StandardScaler()\n",
    "\n",
    "scaler.fit(train_x)\n",
    "train_xs = scaler.transform(train_x)\n",
    "\n",
    "scaler.fit(valid_x)\n",
    "valid_xs = scaler.transform(valid_x)\n",
    "\n",
    "scaler.fit(test_x)\n",
    "test_xs = scaler.transform(test_x)"
   ]
  },
  {
   "cell_type": "markdown",
   "metadata": {},
   "source": [
    "### Regressão linear com descida estocástica de gradiente"
   ]
  },
  {
   "cell_type": "code",
   "execution_count": 7,
   "metadata": {},
   "outputs": [
    {
     "name": "stdout",
     "output_type": "stream",
     "text": [
      "0.22937448548\n"
     ]
    }
   ],
   "source": [
    "### APPLY SGDRegressor ###\n",
    "\n",
    "sgdreg = linear_model.SGDRegressor(eta0=1e-4, max_iter=100)\n",
    "sgdreg.fit(train_xs, train_y)\n",
    "score = sgdreg.score(test_xs, test_y)\n",
    "\n",
    "print(score)"
   ]
  },
  {
   "cell_type": "code",
   "execution_count": 8,
   "metadata": {},
   "outputs": [
    {
     "data": {
      "image/png": "[encoded data removed]",
      "text/plain": [
       "<matplotlib.figure.Figure at 0x7f9be4475390>"
      ]
     },
     "metadata": {},
     "output_type": "display_data"
    }
   ],
   "source": [
    "### PREDICT VALUES ###\n",
    "\n",
    "pred_y = sgdreg.predict(test_xs)\n",
    "printResults(pred_y, test_y)"
   ]
  },
  {
   "cell_type": "code",
   "execution_count": 9,
   "metadata": {},
   "outputs": [
    {
     "name": "stdout",
     "output_type": "stream",
     "text": [
      "Precision: 5.16%\n"
     ]
    }
   ],
   "source": [
    "### CALCULATE PRECISION ###\n",
    "\n",
    "pred_y = sgdreg.predict(test_xs)\n",
    "pred_y = np.around(pred_y)\n",
    "pred_y = pred_y.astype(int)\n",
    "\n",
    "erro = 0\n",
    "for i in range(0, len(pred_y)):\n",
    "    if pred_y[i] != test_y[i]:\n",
    "        erro += 1\n",
    "print(\"Precision: \" + str(round(1 - erro/len(pred_y), 4) * 100) + \"%\")"
   ]
  },
  {
   "cell_type": "code",
   "execution_count": 10,
   "metadata": {},
   "outputs": [
    {
     "name": "stdout",
     "output_type": "stream",
     "text": [
      "-15722.114453\n"
     ]
    }
   ],
   "source": [
    "### APPLY SGDRegressor TEST=1 ###\n",
    "\n",
    "sgdreg = linear_model.SGDRegressor(eta0=1e-6, max_iter=50)\n",
    "sgdreg.fit(train_xs, train_y)\n",
    "score = sgdreg.score(valid_xs, valid_y)\n",
    "\n",
    "print(score)"
   ]
  },
  {
   "cell_type": "code",
   "execution_count": 11,
   "metadata": {},
   "outputs": [
    {
     "name": "stdout",
     "output_type": "stream",
     "text": [
      "0.237791277329\n"
     ]
    }
   ],
   "source": [
    "### APPLY SGDRegressor TEST=2 ###\n",
    "\n",
    "sgdreg = linear_model.SGDRegressor(eta0=1e-3, max_iter=200)\n",
    "sgdreg.fit(train_xs, train_y)\n",
    "score = sgdreg.score(valid_xs, valid_y)\n",
    "\n",
    "print(score)"
   ]
  },
  {
   "cell_type": "code",
   "execution_count": 12,
   "metadata": {},
   "outputs": [
    {
     "name": "stdout",
     "output_type": "stream",
     "text": [
      "0.233869118218\n"
     ]
    }
   ],
   "source": [
    "### APPLY SGDRegressor TEST=3 ###\n",
    "\n",
    "sgdreg = linear_model.SGDRegressor(eta0=1e-5, max_iter=150)\n",
    "sgdreg.fit(train_xs, train_y)\n",
    "score = sgdreg.score(valid_xs, valid_y)\n",
    "\n",
    "print(score)"
   ]
  },
  {
   "cell_type": "code",
   "execution_count": 13,
   "metadata": {
    "scrolled": true
   },
   "outputs": [
    {
     "data": {
      "image/png": "[encoded data removed]",
      "text/plain": [
       "<matplotlib.figure.Figure at 0x7f9be29449e8>"
      ]
     },
     "metadata": {},
     "output_type": "display_data"
    }
   ],
   "source": [
    "### PRINT 1D PLOT ####\n",
    "\n",
    "orange = mpatches.Patch(color='orange', label='Dado predito')\n",
    "blue = mpatches.Patch(color='blue', label='Dado real')\n",
    "    \n",
    "mpl_fig = plt.figure()\n",
    "ax = mpl_fig.add_subplot(111)\n",
    "\n",
    "ax.set_xlabel(\"Ano\")\n",
    "\n",
    "# fig_size = plt.rcParams[\"figure.figsize\"]\n",
    "# fig_size[0] = 8\n",
    "# fig_size[1] = 1\n",
    "#plt.rcParams[\"figure.figsize\"] = fig_size\n",
    "\n",
    "cur_axes = plt.gca()\n",
    "cur_axes.axes.get_yaxis().set_visible(False)\n",
    "\n",
    "\n",
    "plt.scatter(test_y, [2] * len(test_y), color='blue', alpha=0.05, s=300, edgecolors='none')\n",
    "plt.scatter(pred_y, [1] * len(pred_y), color='orange', alpha=0.2, s=300, edgecolors='none')\n",
    "plt.xlim(1910, 2060) \n",
    "plt.ylim(0, 3)\n",
    "plt.legend(handles=[blue, orange])\n",
    "\n",
    "plt.show()"
   ]
  },
  {
   "cell_type": "markdown",
   "metadata": {},
   "source": [
    "### Regressão linear com Lasso"
   ]
  },
  {
   "cell_type": "code",
   "execution_count": 14,
   "metadata": {},
   "outputs": [
    {
     "name": "stdout",
     "output_type": "stream",
     "text": [
      "0.229329259552\n"
     ]
    }
   ],
   "source": [
    "### LASSO MODEL ###\n",
    "\n",
    "clf = linear_model.Lasso(alpha=0.0001)\n",
    "clf.fit(train_xs, train_y)\n",
    "score = clf.score(test_xs, test_y)\n",
    "\n",
    "print(score)"
   ]
  },
  {
   "cell_type": "code",
   "execution_count": 15,
   "metadata": {},
   "outputs": [
    {
     "name": "stdout",
     "output_type": "stream",
     "text": [
      "Precision: 5.16%\n"
     ]
    }
   ],
   "source": [
    "pred_y = clf.predict(test_xs)\n",
    "pred_y = np.around(pred_y)\n",
    "pred_y = pred_y.astype(int)\n",
    "\n",
    "### CALCULATE PRECISION ###\n",
    "erro = 0\n",
    "for i in range(0, len(pred_y)):\n",
    "    if pred_y[i] != test_y[i]:\n",
    "        erro += 1\n",
    "print(\"Precision: \" + str(round(1 - erro/len(pred_y), 4) * 100) + \"%\")"
   ]
  },
  {
   "cell_type": "code",
   "execution_count": 16,
   "metadata": {},
   "outputs": [
    {
     "data": {
      "image/png": "[encoded data removed]",
      "text/plain": [
       "<matplotlib.figure.Figure at 0x7f9be2978ba8>"
      ]
     },
     "metadata": {},
     "output_type": "display_data"
    }
   ],
   "source": [
    "printResults(pred_y, test_y)"
   ]
  },
  {
   "cell_type": "code",
   "execution_count": 17,
   "metadata": {},
   "outputs": [
    {
     "data": {
      "image/png": "[encoded data removed]",
      "text/plain": [
       "<matplotlib.figure.Figure at 0x7f9bd8baddd8>"
      ]
     },
     "metadata": {},
     "output_type": "display_data"
    }
   ],
   "source": [
    "### PRINT 1D PLOT ####\n",
    "\n",
    "orange = mpatches.Patch(color='orange', label='Dado predito')\n",
    "blue = mpatches.Patch(color='blue', label='Dado real')\n",
    "    \n",
    "mpl_fig = plt.figure()\n",
    "ax = mpl_fig.add_subplot(111)\n",
    "\n",
    "ax.set_xlabel(\"Ano\")\n",
    "\n",
    "# fig_size = plt.rcParams[\"figure.figsize\"]\n",
    "# fig_size[0] = 8\n",
    "# fig_size[1] = 1\n",
    "# plt.rcParams[\"figure.figsize\"] = fig_size\n",
    "\n",
    "cur_axes = plt.gca()\n",
    "cur_axes.axes.get_yaxis().set_visible(False)\n",
    "\n",
    "\n",
    "plt.scatter(test_y, [2] * len(test_y), color='blue', alpha=0.05, s=300, edgecolors='none')\n",
    "plt.scatter(pred_y, [1] * len(pred_y), color='orange', alpha=0.2, s=300, edgecolors='none')\n",
    "plt.xlim(1910, 2060) \n",
    "plt.ylim(0, 3)\n",
    "plt.legend(handles=[blue, orange])\n",
    "\n",
    "plt.show()"
   ]
  },
  {
   "cell_type": "markdown",
   "metadata": {},
   "source": [
    "### Regressão linear com Equação Normal"
   ]
  },
  {
   "cell_type": "code",
   "execution_count": 18,
   "metadata": {},
   "outputs": [
    {
     "name": "stdout",
     "output_type": "stream",
     "text": [
      "0.229836372652\n"
     ]
    }
   ],
   "source": [
    "### LINEAR MODEL WITH NORMALIZE ###\n",
    "regr = linear_model.LinearRegression(normalize=True)\n",
    "regr.fit(train_x, train_y)\n",
    "score = regr.score(test_x, test_y)\n",
    "\n",
    "print(score)"
   ]
  },
  {
   "cell_type": "code",
   "execution_count": 19,
   "metadata": {},
   "outputs": [
    {
     "name": "stdout",
     "output_type": "stream",
     "text": [
      "0.229836372652\n"
     ]
    }
   ],
   "source": [
    "### LINEAR MODEL WITHOUT ###\n",
    "regr = linear_model.LinearRegression(normalize=False)\n",
    "regr.fit(train_x, train_y)\n",
    "score = regr.score(test_x, test_y)\n",
    "\n",
    "print(score)"
   ]
  },
  {
   "cell_type": "code",
   "execution_count": 20,
   "metadata": {},
   "outputs": [
    {
     "name": "stdout",
     "output_type": "stream",
     "text": [
      "Precision: 5.2%\n",
      "erro 34399\n",
      "cima 13896\n",
      "8.8965169833\n",
      "baixo 20503\n",
      "6.05672340633\n",
      "1920 12\n",
      "1930 703\n",
      "1940 19959\n",
      "1950 8060\n",
      "1960 2877\n",
      "1970 1694\n",
      "1980 838\n",
      "1990 207\n",
      "2000 39\n",
      "2010 10\n"
     ]
    }
   ],
   "source": [
    "pred_y = regr.predict(test_x)\n",
    "pred_y = np.around(pred_y)\n",
    "pred_y = pred_y.astype(int)\n",
    "\n",
    "### CALCULATE PRECISION AND ERROS METRICS ###\n",
    "erro = 0\n",
    "cima = 0\n",
    "cima_erro = 0\n",
    "baixo = 0\n",
    "baixo_erro = 0\n",
    "\n",
    "decadas = []\n",
    "\n",
    "for i in range(0, 10):\n",
    "    decadas.append(0)\n",
    "\n",
    "for i in range(0, len(pred_y)):\n",
    "    if pred_y[i] > test_y[i]:\n",
    "        cima += 1\n",
    "        cima_erro += pred_y[i] - test_y[i]\n",
    "    \n",
    "    if pred_y[i] < test_y[i]:\n",
    "        baixo += 1\n",
    "        baixo_erro += test_y[i] - pred_y[i]\n",
    "    \n",
    "    if pred_y[i] != test_y[i]:\n",
    "        erro += 1\n",
    "        decada = 192 - int(test_y[i]/10)\n",
    "        decadas[decada] += 1\n",
    "        \n",
    "print(\"Precision: \" + str(round(1 - erro/len(pred_y), 4) * 100) + \"%\")\n",
    "\n",
    "print(\"erro\", erro)\n",
    "print(\"cima\", cima)\n",
    "print(cima_erro/cima)\n",
    "print(\"baixo\", baixo)\n",
    "print(baixo_erro/baixo)\n",
    "\n",
    "for i in range (0, len(decadas)):\n",
    "    print((1920 + i * 10), decadas[i])"
   ]
  },
  {
   "cell_type": "code",
   "execution_count": 21,
   "metadata": {},
   "outputs": [
    {
     "data": {
      "image/png": "[encoded data removed]",
      "text/plain": [
       "<matplotlib.figure.Figure at 0x7f9be2968908>"
      ]
     },
     "metadata": {},
     "output_type": "display_data"
    }
   ],
   "source": [
    "printResults(pred_y, test_y)"
   ]
  },
  {
   "cell_type": "code",
   "execution_count": 22,
   "metadata": {},
   "outputs": [
    {
     "data": {
      "image/png": "[encoded data removed]",
      "text/plain": [
       "<matplotlib.figure.Figure at 0x7f9bd8aea710>"
      ]
     },
     "metadata": {},
     "output_type": "display_data"
    }
   ],
   "source": [
    "### PRINT 1D PLOT ####\n",
    "\n",
    "orange = mpatches.Patch(color='orange', label='Dado predito')\n",
    "blue = mpatches.Patch(color='blue', label='Dado real')\n",
    "    \n",
    "mpl_fig = plt.figure()\n",
    "ax = mpl_fig.add_subplot(111)\n",
    "\n",
    "ax.set_xlabel(\"Ano\")\n",
    "\n",
    "# fig_size = plt.rcParams[\"figure.figsize\"]\n",
    "# fig_size[0] = 6\n",
    "# fig_size[1] = 2\n",
    "# plt.rcParams[\"figure.figsize\"] = fig_size\n",
    "\n",
    "cur_axes = plt.gca()\n",
    "cur_axes.axes.get_yaxis().set_visible(False)\n",
    "\n",
    "\n",
    "plt.scatter(test_y, [2] * len(test_y), color='blue', alpha=0.05, s=300, edgecolors='none')\n",
    "plt.scatter(pred_y, [1] * len(pred_y), color='orange', alpha=0.2, s=300, edgecolors='none')\n",
    "plt.xlim(1910, 2060) \n",
    "plt.ylim(0, 3)\n",
    "plt.legend(handles=[blue, orange])\n",
    "\n",
    "plt.show()"
   ]
  },
  {
   "cell_type": "code",
   "execution_count": 23,
   "metadata": {
    "scrolled": true
   },
   "outputs": [
    {
     "data": {
      "image/png": "[encoded data removed]",
      "text/plain": [
       "<matplotlib.figure.Figure at 0x7f9bd8b4c668>"
      ]
     },
     "metadata": {},
     "output_type": "display_data"
    }
   ],
   "source": [
    "### PLOT PREDICTION VS REAL ###\n",
    "\n",
    "mpl_fig = plt.figure()\n",
    "ax = mpl_fig.add_subplot(111)\n",
    "\n",
    "ax.set_xlabel(\"Ano real\")\n",
    "ax.set_ylabel(\"Ano predito\")\n",
    "\n",
    "plt.scatter(test_y, pred_y, color='black', alpha=0.05, s=10)\n",
    "plt.show()"
   ]
  },
  {
   "cell_type": "code",
   "execution_count": 24,
   "metadata": {},
   "outputs": [
    {
     "name": "stdout",
     "output_type": "stream",
     "text": [
      "-612.110960644\n",
      "-39.7293820601\n",
      "-3.44662999451\n",
      "-0.209528910322\n",
      "0.164010867336\n",
      "0.211256253185\n",
      "0.223236766311\n",
      "0.224873469475\n",
      "0.227002315752\n"
     ]
    },
    {
     "data": {
      "image/png": "[encoded data removed]",
      "text/plain": [
       "<matplotlib.figure.Figure at 0x7f9bd88f5978>"
      ]
     },
     "metadata": {},
     "output_type": "display_data"
    }
   ],
   "source": [
    "### PLOT ITERACTIONS VS SCORE ###\n",
    "iters = []\n",
    "scores = []\n",
    "for i in range(1, 10, 1):\n",
    "    sgdreg = linear_model.SGDRegressor(eta0=1e-4, max_iter=i)\n",
    "    sgdreg.fit(train_xs, train_y)\n",
    "    score = sgdreg.score(test_xs, test_y)\n",
    "    iters.append(i)\n",
    "    scores.append(score)\n",
    "    print(score)\n",
    "\n",
    "for i in range(11, 101, 15):\n",
    "    sgdreg = linear_model.SGDRegressor(eta0=1e-4, max_iter=i)\n",
    "    sgdreg.fit(train_xs, train_y)\n",
    "    score = sgdreg.score(test_xs, test_y)\n",
    "    iters.append(i)\n",
    "    scores.append(score)\n",
    "\n",
    "mpl_fig = plt.figure()\n",
    "ax = mpl_fig.add_subplot(111)\n",
    "\n",
    "ax.set_xlabel(\"Iterações\")\n",
    "ax.set_ylabel(\"Score\")\n",
    "\n",
    "plt.plot(iters, scores)\n",
    "plt.show()"
   ]
  },
  {
   "cell_type": "code",
   "execution_count": null,
   "metadata": {
    "collapsed": true
   },
   "outputs": [],
   "source": []
  }
 ],
 "metadata": {
  "kernelspec": {
   "display_name": "Python 3",
   "language": "python",
   "name": "python3"
  },
  "language_info": {
   "codemirror_mode": {
    "name": "ipython",
    "version": 3
   },
   "file_extension": ".py",
   "mimetype": "text/x-python",
   "name": "python",
   "nbconvert_exporter": "python",
   "pygments_lexer": "ipython3",
   "version": "3.6.2"
  }
 },
 "nbformat": 4,
 "nbformat_minor": 2
}
