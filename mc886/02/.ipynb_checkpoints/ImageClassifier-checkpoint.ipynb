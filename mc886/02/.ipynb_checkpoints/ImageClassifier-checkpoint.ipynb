{
 "cells": [
  {
   "cell_type": "markdown",
   "metadata": {
    "collapsed": true
   },
   "source": [
    "## Códigos do experimento de Classificador automático de imagens\n",
    "\n",
    "André Figueiredo de Almeida\n",
    "RA: 164047\n",
    "\n",
    "Igor Torrente\n",
    "RA: 169820"
   ]
  },
  {
   "cell_type": "code",
   "execution_count": 5,
   "metadata": {
    "collapsed": true
   },
   "outputs": [],
   "source": [
    "### IMPORT ##\n",
    "import sklearn.linear_model as lm\n",
    "import sklearn.neural_network as nn\n",
    "from sklearn.decomposition import PCA\n",
    "import pickle\n",
    "import time"
   ]
  },
  {
   "cell_type": "code",
   "execution_count": 2,
   "metadata": {
    "collapsed": true
   },
   "outputs": [],
   "source": [
    "### Função que extrai dados do banco de dados ###\n",
    "def unpickle(file):\n",
    "    with open(file, 'rb') as fo:\n",
    "        dict = pickle.load(fo, encoding='bytes')\n",
    "    return dict"
   ]
  },
  {
   "cell_type": "code",
   "execution_count": 3,
   "metadata": {
    "collapsed": true
   },
   "outputs": [],
   "source": [
    "### Pegando dados do banco de dados ###\n",
    "def getData():\n",
    "    train = {b'labels' : [], b'data' : []}\n",
    "\n",
    "    for i in range(1, 6):\n",
    "        aux = unpickle('cifar-10-python/cifar-10-batches-py/data_batch_' + str(i))\n",
    "        train[b'labels'].extend(aux[b'labels'])\n",
    "        train[b'data'].extend(aux[b'data'])\n",
    "\n",
    "    train_x = train[b'data']    \n",
    "\n",
    "    train_y = train[b'labels']\n",
    "\n",
    "    test = unpickle('cifar-10-python/cifar-10-batches-py/test_batch')\n",
    "\n",
    "    test_x = test[b'data']\n",
    "\n",
    "    test_y = test[b'labels']\n",
    "    \n",
    "    return train_x, train_y, test_x, test_y"
   ]
  },
  {
   "cell_type": "markdown",
   "metadata": {},
   "source": [
    "### III. Tratamento de dados"
   ]
  },
  {
   "cell_type": "code",
   "execution_count": null,
   "metadata": {
    "collapsed": true
   },
   "outputs": [],
   "source": [
    "def applyPCA(perc):\n",
    "    train = {b'labels' : [], b'data' : []}\n",
    "\n",
    "    for i in range(1, 6):\n",
    "        aux = unpickle('cifar-10-python/cifar-10-batches-py/data_batch_' + str(i))\n",
    "        train[b'labels'].extend(aux[b'labels'])\n",
    "        train[b'data'].extend(aux[b'data'])\n",
    "\n",
    "    train_x = train[b'data'][40000:]\n",
    "\n",
    "    train_y = train[b'labels'][40000:]\n",
    "\n",
    "    test_x = train[b'data'][:10000]\n",
    "\n",
    "    test_y = train[b'labels'][:10000]\n",
    "\n",
    "    # nao aplicar PCA\n",
    "    if perc == -1:\n",
    "        return train_x, train_y, test_x, test_y\n",
    "    \n",
    "    pca = PCA(n_components=perc)\n",
    "    pca.fit(train_x)\n",
    "    train_x_pca = pca.transform(train_x)\n",
    "    test_x_pca = pca.transform(test_x)\n",
    "\n",
    "    soma = 0\n",
    "    for i in pca.explained_variance_ratio_:\n",
    "        soma += i\n",
    "    print(\"Dados removidos/reduzidos: \",soma)\n",
    "    return train_x_pca, train_y, test_x_pca, test_y"
   ]
  },
  {
   "cell_type": "markdown",
   "metadata": {},
   "source": [
    "Exemplo sem PCA"
   ]
  },
  {
   "cell_type": "code",
   "execution_count": null,
   "metadata": {
    "collapsed": true
   },
   "outputs": [],
   "source": [
    "train_x, train_y, test_x, test_y = applyPCA(-1)\n",
    "\n",
    "tic = time.clock()\n",
    "\n",
    "lr = lm.LogisticRegression(n_jobs = -1, solver=\"saga\").fit(train_x, train_y)\n",
    "print(\"Score: \", lr.score(test_x, test_y))\n",
    "\n",
    "tac = time.clock()\n",
    "print(\"Tempo: \", tac - tic, \"s\")"
   ]
  },
  {
   "cell_type": "markdown",
   "metadata": {},
   "source": [
    "Exemplos com PCA"
   ]
  },
  {
   "cell_type": "code",
   "execution_count": null,
   "metadata": {
    "collapsed": true
   },
   "outputs": [],
   "source": [
    "# Com 85% de remoção\n",
    "\n",
    "train_x_pca, train_y, test_x_pca, test_y = applyPCA(0.85)\n",
    "\n",
    "tic = time.clock()\n",
    "\n",
    "lr = lm.LogisticRegression(n_jobs = -1, solver=\"saga\").fit(train_x_pca, train_y)\n",
    "print(\"Score: \", lr.score(test_x_pca, test_y))\n",
    "\n",
    "tac = time.clock()\n",
    "print(\"Tempo: \", tac - tic, \"s\")"
   ]
  },
  {
   "cell_type": "code",
   "execution_count": null,
   "metadata": {
    "collapsed": true
   },
   "outputs": [],
   "source": [
    "# Com 93% de remoção\n",
    "\n",
    "train_x_pca, train_y, test_x_pca, test_y = applyPCA(0.93)\n",
    "\n",
    "tic = time.clock()\n",
    "\n",
    "lr = lm.LogisticRegression(n_jobs = -1, solver=\"saga\").fit(train_x_pca, train_y)\n",
    "print(\"Score: \", lr.score(test_x_pca, test_y))\n",
    "\n",
    "tac = time.clock()\n",
    "print(\"Tempo: \", tac - tic, \"s\")"
   ]
  },
  {
   "cell_type": "code",
   "execution_count": null,
   "metadata": {
    "collapsed": true
   },
   "outputs": [],
   "source": [
    "# Com 95% de remoção\n",
    "\n",
    "train_x_pca, train_y, test_x_pca, test_y = applyPCA(0.95)\n",
    "\n",
    "tic = time.clock()\n",
    "\n",
    "lr = lm.LogisticRegression(n_jobs = -1, solver=\"saga\").fit(train_x_pca, train_y)\n",
    "print(\"Score: \", lr.score(test_x_pca, test_y))\n",
    "\n",
    "tac = time.clock()\n",
    "print(\"Tempo: \", tac - tic, \"s\")"
   ]
  },
  {
   "cell_type": "code",
   "execution_count": null,
   "metadata": {
    "collapsed": true
   },
   "outputs": [],
   "source": [
    "# Com 97% de remoção\n",
    "\n",
    "train_x_pca, train_y, test_x_pca, test_y = applyPCA(0.97)\n",
    "\n",
    "tic = time.clock()\n",
    "\n",
    "lr = lm.LogisticRegression(n_jobs = -1, solver=\"saga\").fit(train_x_pca, train_y)\n",
    "print(\"Score: \", lr.score(test_x_pca, test_y))\n",
    "\n",
    "tac = time.clock()\n",
    "print(\"Tempo: \", tac - tic, \"s\")"
   ]
  },
  {
   "cell_type": "markdown",
   "metadata": {},
   "source": [
    "### IV. Soluções propostas"
   ]
  },
  {
   "cell_type": "code",
   "execution_count": 7,
   "metadata": {
    "collapsed": true
   },
   "outputs": [],
   "source": [
    "### Preparando dados com e sem PCA ###\n",
    "\n",
    "train_x, train_y, test_x, test_y = getData()"
   ]
  },
  {
   "cell_type": "code",
   "execution_count": null,
   "metadata": {
    "collapsed": true
   },
   "outputs": [],
   "source": [
    "pca = PCA(n_components=200)\n",
    "pca.fit(train_x)\n",
    "train_x_pca = pca.transform(train_x)\n",
    "test_x_pca = pca.transform(test_x)"
   ]
  },
  {
   "cell_type": "markdown",
   "metadata": {},
   "source": [
    "Regressão logística com um contra todos"
   ]
  },
  {
   "cell_type": "code",
   "execution_count": null,
   "metadata": {
    "collapsed": true
   },
   "outputs": [],
   "source": [
    "lr = lm.LogisticRegression(n_jobs = -1, solver=\"saga\").fit(train_x, train_y)\n",
    "lr.score(test_x, test_y)"
   ]
  },
  {
   "cell_type": "markdown",
   "metadata": {},
   "source": [
    "com PCA"
   ]
  },
  {
   "cell_type": "code",
   "execution_count": null,
   "metadata": {
    "collapsed": true
   },
   "outputs": [],
   "source": [
    "lr = lm.LogisticRegression(n_jobs = -1, solver=\"saga\").fit(train_x_pca, train_y)\n",
    "lr.score(test_x_pca, test_y)"
   ]
  },
  {
   "cell_type": "markdown",
   "metadata": {},
   "source": [
    "Regressão logística multinomial"
   ]
  },
  {
   "cell_type": "code",
   "execution_count": null,
   "metadata": {
    "collapsed": true
   },
   "outputs": [],
   "source": [
    "lr = lm.LogisticRegression(n_jobs = -1, solver=\"saga\", multi_class=\"multinomial\").fit(train_x, train_y)\n",
    "lr.score(test_x, test_y)"
   ]
  },
  {
   "cell_type": "markdown",
   "metadata": {},
   "source": [
    "com PCA"
   ]
  },
  {
   "cell_type": "code",
   "execution_count": null,
   "metadata": {
    "collapsed": true
   },
   "outputs": [],
   "source": [
    "lr = lm.LogisticRegression(n_jobs = -1, solver=\"saga\", multi_class=\"multinomial\").fit(train_x, train_y)\n",
    "lr.score(test_x_pca, test_y)"
   ]
  },
  {
   "cell_type": "markdown",
   "metadata": {},
   "source": [
    "Rede neural de uma camada sem PCA"
   ]
  },
  {
   "cell_type": "code",
   "execution_count": null,
   "metadata": {
    "collapsed": true
   },
   "outputs": [],
   "source": [
    "mlp = nn.MLPClassifier(hidden_layer_sizes=(2700, ), activation='logistic', solver='lbfgs',\n",
    "                         learning_rate_init=0.001).fit(train_x, train_y)\n",
    "print(mlp.score(test_x, test_y))"
   ]
  },
  {
   "cell_type": "markdown",
   "metadata": {},
   "source": [
    "com PCA"
   ]
  },
  {
   "cell_type": "code",
   "execution_count": null,
   "metadata": {
    "collapsed": true
   },
   "outputs": [],
   "source": [
    "mlp = nn.MLPClassifier(hidden_layer_sizes=(5000, ), activation='logistic', solver='lbfgs',\n",
    "                         learning_rate_init=0.001).fit(train_x_pca , train_y)\n",
    "print(mlp.score(test_x_pca, test_y))"
   ]
  },
  {
   "cell_type": "markdown",
   "metadata": {},
   "source": [
    "Rede neural de duas camada sem PCA"
   ]
  },
  {
   "cell_type": "code",
   "execution_count": null,
   "metadata": {
    "collapsed": true
   },
   "outputs": [],
   "source": [
    "mlp = nn.MLPClassifier(hidden_layer_sizes=(x, y), activation='relu', solver='adam', \n",
    "                         learning_rate_init=0.001).fit(train_x, train_y)\n",
    "print(mlp.score(test_x, test_y))"
   ]
  },
  {
   "cell_type": "markdown",
   "metadata": {},
   "source": [
    "com PCA"
   ]
  }
 ],
 "metadata": {
  "kernelspec": {
   "display_name": "Python 3",
   "language": "python",
   "name": "python3"
  },
  "language_info": {
   "codemirror_mode": {
    "name": "ipython",
    "version": 3
   },
   "file_extension": ".py",
   "mimetype": "text/x-python",
   "name": "python",
   "nbconvert_exporter": "python",
   "pygments_lexer": "ipython3",
   "version": "3.6.2"
  }
 },
 "nbformat": 4,
 "nbformat_minor": 2
}
